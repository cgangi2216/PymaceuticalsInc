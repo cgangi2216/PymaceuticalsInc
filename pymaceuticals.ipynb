{
 "cells": [
  {
   "cell_type": "markdown",
   "metadata": {},
   "source": [
    "## Observations and Insights "
   ]
  },
  {
   "cell_type": "markdown",
   "metadata": {},
   "source": []
  },
  {
   "cell_type": "code",
   "execution_count": null,
   "metadata": {},
   "outputs": [],
   "source": [
    "# Dependencies and Setup\n",
    "import matplotlib.pyplot as plt\n",
    "import pandas as pd\n",
    "import scipy.stats as st\n",
    "import numpy as np\n",
    "\n",
    "# Study data files\n",
    "mouse_metadata_path = \"data/Mouse_metadata.csv\"\n",
    "study_results_path = \"data/Study_results.csv\"\n",
    "\n",
    "# Read the mouse data and the study results\n",
    "mouse_metadata = pd.read_csv(mouse_metadata_path)\n",
    "study_results = pd.read_csv(study_results_path)\n",
    "\n",
    "# Combine the data into a single dataset\n",
    "mouse_results_df = pd.merge(mouse_metadata, study_results, on='Mouse ID')\n",
    "\n",
    "# Display the data table for preview\n",
    "mouse_results_df.head()"
   ]
  },
  {
   "cell_type": "code",
   "execution_count": null,
   "metadata": {},
   "outputs": [],
   "source": [
    "# Checking the number of mice.\n",
    "dup_records = mouse_results_df[mouse_results_df.duplicated(['Mouse ID','Timepoint'])]\n",
    "dup_records"
   ]
  },
  {
   "cell_type": "code",
   "execution_count": null,
   "metadata": {},
   "outputs": [],
   "source": [
    "# Getting the duplicate mice by ID number that shows up for Mouse ID and Timepoint. \n",
    "dup_record = dup_records['Mouse ID'].unique()\n",
    "dup_record[0]"
   ]
  },
  {
   "cell_type": "code",
   "execution_count": null,
   "metadata": {},
   "outputs": [],
   "source": [
    "# Optional: Get all the data for the duplicate mouse ID. \n",
    "mouse_results_df[mouse_results_df['Mouse ID']==dup_record[0]]"
   ]
  },
  {
   "cell_type": "code",
   "execution_count": null,
   "metadata": {},
   "outputs": [],
   "source": [
    "# Create a clean DataFrame by dropping the duplicate mouse by its ID.\n",
    "clean_mouse_results_df = mouse_results_df.drop(mouse_results_df[mouse_results_df['Mouse ID']==dup_record[0]].index)\n",
    "clean_mouse_results_df"
   ]
  },
  {
   "cell_type": "code",
   "execution_count": null,
   "metadata": {},
   "outputs": [],
   "source": [
    "# Checking the number of mice in the clean DataFrame.\n",
    "len(clean_mouse_results_df['Mouse ID'].unique())"
   ]
  },
  {
   "cell_type": "markdown",
   "metadata": {},
   "source": [
    "## Summary Statistics"
   ]
  },
  {
   "cell_type": "code",
   "execution_count": null,
   "metadata": {},
   "outputs": [],
   "source": [
    "# Generate a summary statistics table of mean, median, variance, standard deviation, and SEM of the tumor volume for each regimen\n",
    "\n",
    "# Use groupby and summary statistical methods to calculate the following properties of each drug regimen: \n",
    "# mean, median, variance, standard deviation, and SEM of the tumor volume. \n",
    "drugregimen_df = clean_mouse_results_df.groupby('Drug Regimen')\n",
    "\n",
    "mean_df = drugregimen_df['Tumor Volume (mm3)'].mean()\n",
    "median_df = drugregimen_df['Tumor Volume (mm3)'].median()\n",
    "var_df = drugregimen_df['Tumor Volume (mm3)'].var()\n",
    "std_df = drugregimen_df['Tumor Volume (mm3)'].std()\n",
    "sem_df = drugregimen_df['Tumor Volume (mm3)'].sem()\n",
    "\n",
    "# Assemble the resulting series into a single summary dataframe.\n",
    "summary_drugregimen_df = pd.DataFrame({'Tumor Volume Mean':mean_df\n",
    "                                      ,'Tumor Volume Median':median_df\n",
    "                                      ,'Tumor Volume Variance':var_df\n",
    "                                      ,'Tumor Volume Standard Deviation':std_df\n",
    "                                      ,'Tumor Volume SEM':sem_df\n",
    "                                      })\n",
    "summary_drugregimen_df"
   ]
  },
  {
   "cell_type": "code",
   "execution_count": null,
   "metadata": {},
   "outputs": [],
   "source": [
    "# Using the aggregation method, produce the same summary statistics in a single line\n",
    "summary_df = pd.DataFrame({'Tumor Volume Mean':[clean_mouse_results_df['Tumor Volume (mm3)'].mean()]\n",
    "                          ,'Tumor Volume Median':[clean_mouse_results_df['Tumor Volume (mm3)'].median()]\n",
    "                          ,'Tumor Volume Variance':[clean_mouse_results_df['Tumor Volume (mm3)'].var()]\n",
    "                          ,'Tumor Volume Standard Deviation':[clean_mouse_results_df['Tumor Volume (mm3)'].std()]\n",
    "                          ,'Tumor Volume SEM':[clean_mouse_results_df['Tumor Volume (mm3)'].sem()]\n",
    "                          })\n",
    "summary_df"
   ]
  },
  {
   "cell_type": "markdown",
   "metadata": {},
   "source": [
    "## Bar and Pie Charts"
   ]
  },
  {
   "cell_type": "code",
   "execution_count": null,
   "metadata": {},
   "outputs": [],
   "source": [
    "# Generate a bar plot showing the total number of measurements taken on each drug regimen using pandas.\n",
    "regimen_df = drugregimen_df['Drug Regimen'].count()\n",
    "bar_plot = regimen_df.plot.bar(x='Drug Regimen', y='values', align='center', title='Number of Measurements Taken Per Drug Regimen')\n",
    "bar_plot.set_ylabel('Number of Measurements Taken')"
   ]
  },
  {
   "cell_type": "code",
   "execution_count": null,
   "metadata": {},
   "outputs": [],
   "source": [
    "# Generate a bar plot showing the total number of measurements taken on each drug regimen using pyplot.\n",
    "\n",
    "# Create lists for the x & y values\n",
    "count_df = drugregimen_df['Drug Regimen'].count()\n",
    "regimen_ls = list(count_df.keys())\n",
    "counts_ls = list(count_df.values.flatten())\n",
    "\n",
    "# Configure x axis tickes\n",
    "x_axis = np.arange(len(regimen_ls))\n",
    "tick_locations = [value for value in x_axis]\n",
    "plt.xticks(tick_locations, regimen_ls, rotation=90)\n",
    "\n",
    "# Specify title & axis labels\n",
    "plt.title('Number of Measurements Taken Per Drug Regimen')\n",
    "plt.xlabel('Drug Regimen')\n",
    "plt.ylabel('Number of Measurements Taken')\n",
    "\n",
    "# plt.xlim(-.25,-.25)\n",
    "# Plot chart\n",
    "plt.bar(x_axis, counts_ls, align='center', width=.5)"
   ]
  },
  {
   "cell_type": "code",
   "execution_count": null,
   "metadata": {},
   "outputs": [],
   "source": [
    "# Generate a pie plot showing the distribution of female versus male mice using pandas\n",
    "sex_df = clean_mouse_results_df.groupby('Sex')['Mouse ID'].nunique()\n",
    "pie_plot = sex_df.plot.pie(y='values', title='Distribution of Mice by Sex', autopct=\"%1.1f%%\")\n",
    "pie_plot.set_ylabel('Number of Mice')"
   ]
  },
  {
   "cell_type": "code",
   "execution_count": null,
   "metadata": {},
   "outputs": [],
   "source": [
    "# Generate a pie plot showing the distribution of female versus male mice using pyplot\n",
    "plt.title('Distribution of Mice by Sex')\n",
    "plt.ylabel('Number of Mice')\n",
    "labels = list(sex_df.keys())\n",
    "plt.pie(sex_df, labels=labels, autopct=\"%1.1f%%\")\n",
    "plt.show()"
   ]
  },
  {
   "cell_type": "markdown",
   "metadata": {},
   "source": [
    "## Quartiles, Outliers and Boxplots"
   ]
  },
  {
   "cell_type": "code",
   "execution_count": null,
   "metadata": {
    "scrolled": true
   },
   "outputs": [],
   "source": [
    "# Calculate the final tumor volume of each mouse across four of the treatment regimens:  \n",
    "# Capomulin, Ramicane, Infubinol, and Ceftamin\n",
    "\n",
    "# Start by getting the last (greatest) timepoint for each mouse\n",
    "last_timepoint = clean_mouse_results_df.groupby('Mouse ID')['Timepoint'].max()\n",
    "\n",
    "# Merge this group df with the original dataframe to get the tumor volume at the last timepoint\n",
    "last_timepoint_df = clean_mouse_results_df.merge(last_timepoint, on='Mouse ID', suffixes=('','_max'))\n",
    "last_timepoint_df = last_timepoint_df[last_timepoint_df['Timepoint']==last_timepoint_df['Timepoint_max']]\n",
    "last_timepoint_df"
   ]
  },
  {
   "cell_type": "code",
   "execution_count": null,
   "metadata": {},
   "outputs": [],
   "source": [
    "# Put treatments into a list for for loop (and later for plot labels)\n",
    "regimen_ls = ['Capomulin', 'Ramicane', 'Infubinol', 'Ceftamin']\n",
    "\n",
    "# Create empty list to fill with tumor vol data (for plotting)\n",
    "tumor_val_ls = []\n",
    "\n",
    "# Calculate the IQR and quantitatively determine if there are any potential outliers. \n",
    "for regimen in regimen_ls:\n",
    "    # Locate the rows which contain mice on each drug and get the tumor volumes\n",
    "    temp_df = last_timepoint_df[last_timepoint_df['Drug Regimen']==regimen]\n",
    "    \n",
    "    # add subset\n",
    "    values = temp_df['Tumor Volume (mm3)'] \n",
    "    tumor_val_ls.append(values)\n",
    "\n",
    "    # Determine outliers using upper and lower bounds\n",
    "    quartiles = temp_df['Tumor Volume (mm3)'].quantile([.25,.5,.75])\n",
    "    lower = quartiles[.25]\n",
    "    median = quartiles[.5]\n",
    "    upper = quartiles[.75]\n",
    "    iqr = upper-lower\n",
    "    lower_bound = lower - (1.5 * iqr)\n",
    "    upper_bound = upper + (1.5 * iqr)\n",
    "    outliers_df = values.loc[(temp_df['Tumor Volume (mm3)'] <= lower_bound) |\n",
    "                             (temp_df['Tumor Volume (mm3)'] >= upper_bound)]\n",
    "    outliers_ct = len(outliers_df)\n",
    "    output =  f'{regimen}:\\n '\n",
    "    output += f'Lower Quartile = {lower}\\n Median = {median}\\n Upper Quartile = {upper}\\n '\n",
    "    output += f'Interquartile Range = {iqr}\\n Lower Outlier Boundary = {lower_bound}\\n Upper Outlier Boundary = {upper_bound}\\n '\n",
    "    output += f'Outlier Count = {outliers_ct}\\n'\n",
    "    print(output)"
   ]
  },
  {
   "cell_type": "code",
   "execution_count": null,
   "metadata": {},
   "outputs": [],
   "source": [
    "# Generate a box plot of the final tumor volume of each mouse across four regimens of interest\n",
    "\n",
    "# Specify outlier color, size & shape\n",
    "flierprops = {'markerfacecolor':'red', 'markersize':12, 'marker':'^'}\n",
    "\n",
    "# Create plot\n",
    "plt.subplots()\n",
    "plt.boxplot(tumor_val_ls, labels=regimen_ls, flierprops=flierprops)\n",
    "\n",
    "# Specify title & axis labels\n",
    "plt.title('Final Tumor Volume by Drug Regimen')\n",
    "plt.ylabel('Final Tumor Volume (mm3)')\n",
    "plt.xlabel('Drug Regimen')\n",
    "\n",
    "#Show plot\n",
    "plt.show()"
   ]
  },
  {
   "cell_type": "markdown",
   "metadata": {},
   "source": [
    "## Line and Scatter Plots"
   ]
  },
  {
   "cell_type": "code",
   "execution_count": null,
   "metadata": {},
   "outputs": [],
   "source": [
    "# Generate a line plot of tumor volume vs. time point for a mouse treated with Capomulin\n",
    "mouse_df = clean_mouse_results_df[clean_mouse_results_df['Mouse ID']=='s185']\n",
    "\n",
    "x_axis = mouse_df['Timepoint']\n",
    "values = mouse_df['Tumor Volume (mm3)']\n",
    "\n",
    "plt.plot(x_axis, values)\n",
    "plt.xlabel('Timepoint')\n",
    "plt.ylabel('Tumor Volume (mm3)')\n",
    "plt.title('Capomulin Reults for Mounse s185')\n",
    "\n",
    "plt.show()"
   ]
  },
  {
   "cell_type": "code",
   "execution_count": null,
   "metadata": {},
   "outputs": [],
   "source": [
    "# Generate a scatter plot of average tumor volume vs. mouse weight for the Capomulin regimen\n",
    "Capomulin_df = clean_mouse_results_df[clean_mouse_results_df['Drug Regimen']=='Capomulin'].groupby('Mouse ID')\n",
    "weight_df = Capomulin_df.mean()\n",
    "weight_df = weight_df[['Weight (g)','Tumor Volume (mm3)']]\n",
    "\n",
    "# min_weight = weight_df['Weight (g)'].min()\n",
    "# max_weight = weight_df['Weight (g)'].max()\n",
    "\n",
    "x_axis = weight_df['Weight (g)']\n",
    "values = weight_df['Tumor Volume (mm3)']\n",
    "\n",
    "plt.title('Average Tumer Volume by Mouse Weight')\n",
    "plt.xlabel('Weight (g)')\n",
    "plt.ylabel('Tumor Volume (mm3)')\n",
    "\n",
    "plt.scatter(x_axis, values)\n",
    "plt.show()"
   ]
  },
  {
   "cell_type": "markdown",
   "metadata": {},
   "source": [
    "## Correlation and Regression"
   ]
  },
  {
   "cell_type": "code",
   "execution_count": null,
   "metadata": {},
   "outputs": [],
   "source": [
    "# Calculate the correlation coefficient and linear regression model \n",
    "# for mouse weight and average tumor volume for the Capomulin regimen\n"
   ]
  },
  {
   "cell_type": "code",
   "execution_count": null,
   "metadata": {},
   "outputs": [],
   "source": []
  }
 ],
 "metadata": {
  "anaconda-cloud": {},
  "kernelspec": {
   "display_name": "Python 3",
   "language": "python",
   "name": "python3"
  },
  "language_info": {
   "codemirror_mode": {
    "name": "ipython",
    "version": 3
   },
   "file_extension": ".py",
   "mimetype": "text/x-python",
   "name": "python",
   "nbconvert_exporter": "python",
   "pygments_lexer": "ipython3",
   "version": "3.8.3"
  }
 },
 "nbformat": 4,
 "nbformat_minor": 4
}
